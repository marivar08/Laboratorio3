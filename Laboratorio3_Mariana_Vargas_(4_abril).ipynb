{
  "nbformat": 4,
  "nbformat_minor": 0,
  "metadata": {
    "colab": {
      "provenance": []
    },
    "kernelspec": {
      "name": "python3",
      "display_name": "Python 3"
    },
    "language_info": {
      "name": "python"
    }
  },
  "cells": [
    {
      "cell_type": "markdown",
      "source": [
        "Laboratorio 3\n",
        "Estudiante: Mariana Vargas Quesada (402480212)\n",
        "Fecha: 4 abril, 2024"
      ],
      "metadata": {
        "id": "l-4FWVN7lzoh"
      }
    },
    {
      "cell_type": "code",
      "source": [
        "import threading\n",
        "import random\n",
        "import time"
      ],
      "metadata": {
        "id": "jST6a9YpmXqH"
      },
      "execution_count": null,
      "outputs": []
    },
    {
      "cell_type": "code",
      "source": [
        "def ordenar_subvector(subvector, hilo):\n",
        "  tiempo_inicio = time.time()\n",
        "  subvector.sort()\n",
        "  tiempo_fin = time.time()\n",
        "  tiempo_ejecucion = tiempo_fin - tiempo_inicio\n",
        "  print(f\"Hilo {hilo}: Subvector ordenado (Tiempo: {tiempo_ejecucion} segundos)\")\n"
      ],
      "metadata": {
        "id": "z4wQrQP2mdLY"
      },
      "execution_count": null,
      "outputs": []
    },
    {
      "cell_type": "code",
      "source": [
        "def dividir_vector(vector, num_hilos):\n",
        "  longitud_subvector = len(vector) // num_hilos\n",
        "  subvectores = [vector[i:i+longitud_subvector] for i in range(0, len(vector), longitud_subvector)]\n",
        "  return subvectores"
      ],
      "metadata": {
        "id": "-QvU8jAgm2xt"
      },
      "execution_count": null,
      "outputs": []
    },
    {
      "cell_type": "code",
      "source": [
        "def unir_vectores(subvectores):\n",
        "  vector_ordenado = [num for subvector in subvectores for num in subvector]\n",
        "  return vector_ordenado"
      ],
      "metadata": {
        "id": "YJqOJLCjnehk"
      },
      "execution_count": null,
      "outputs": []
    },
    {
      "cell_type": "code",
      "source": [
        "def ordenar_vector(vector, num_hilos):\n",
        "  subvectores = dividir_vector(vector, num_hilos)\n",
        "  threads = []\n",
        "\n",
        "  for i, subvector in enumerate(subvectores):\n",
        "    thread = threading.Thread(target=ordenar_subvector, args=(subvector, i))\n",
        "  thread.start()\n",
        "  threads.append(thread)\n",
        "  for thread in threads:\n",
        "    thread.join()\n",
        "  vector_ordenado = unir_vectores(subvectores)\n",
        "  vector_ordenado.sort()\n",
        "  print(f\"Vector ordenado final:{vector_ordenado}\")\n",
        "\n",
        "vector_grande = [random.randint(1,100) for _ in range (100)]\n",
        "\n",
        "num_hilos = int(input(\"Ingrese la cantidad de hilos: \"))\n",
        "\n",
        "ordenar_vector(vector=vector_grande, num_hilos=num_hilos)\n"
      ],
      "metadata": {
        "colab": {
          "base_uri": "https://localhost:8080/"
        },
        "id": "WIkjU8y1n0EZ",
        "outputId": "049db2a2-3c21-4b96-b861-40157d7cf278"
      },
      "execution_count": null,
      "outputs": [
        {
          "output_type": "stream",
          "name": "stdout",
          "text": [
            "Ingrese la cantidad de hilos: 2\n",
            "Hilo 1: Subvector ordenado (Tiempo: 8.821487426757812e-06 segundos)\n",
            "Vector ordenado final:[1, 2, 3, 3, 3, 5, 7, 9, 10, 11, 11, 11, 12, 14, 15, 15, 16, 16, 17, 18, 21, 22, 22, 23, 24, 24, 25, 26, 27, 27, 29, 29, 29, 29, 31, 31, 32, 35, 39, 39, 42, 45, 45, 49, 49, 50, 51, 51, 51, 53, 53, 57, 58, 58, 58, 62, 63, 63, 68, 68, 68, 70, 71, 72, 72, 74, 76, 76, 76, 77, 78, 79, 79, 80, 82, 83, 84, 84, 84, 85, 86, 86, 87, 89, 89, 89, 90, 92, 92, 93, 93, 94, 94, 95, 96, 96, 97, 97, 97, 99]\n"
          ]
        }
      ]
    },
    {
      "cell_type": "markdown",
      "source": [
        "El programa tiene el comportamiento de que entre más hilos se creen puede aumentar el tiempo de procesamiento, con base en las pruebas realizadas el número óptimo de hilos a crear respecto al tiempo de procesamiento es 4, con un tiempo de 0,003790855408, esto se puede comparar con el resultado con 3 hilos que es de 1.45773366, y el de 2 hilos que es de 0.24878363. En todos los casos se mantuvo un rango del 1 al 100 en cada hilo."
      ],
      "metadata": {
        "id": "Voh5k2Cg8nUi"
      }
    }
  ]
}